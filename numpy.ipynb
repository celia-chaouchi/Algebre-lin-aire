{
 "cells": [
  {
   "cell_type": "code",
   "execution_count": 1,
   "id": "243cfc69",
   "metadata": {},
   "outputs": [],
   "source": [
    "import numpy as np"
   ]
  },
  {
   "cell_type": "code",
   "execution_count": null,
   "id": "dfd52787",
   "metadata": {},
   "outputs": [],
   "source": [
    "# verifier qu'une matrice est syemetrique positive et donne ses valeurs propres\n",
    "\n",
    "def generate_spd_matrix(n):\n",
    "    B = np.random.randn(n, n)\n",
    "    A = B.T @ B\n",
    "    if not np.array_equal(A, A.T):\n",
    "        raise ValueError(\"La matrice A n'est pas symétrique !\")\n",
    "    valprp = np.linalg.eigvals(A)\n",
    "    if not np.all(valprp >0):\n",
    "        raise ValueError(\"La matrice A n'est pas définie positive !\")\n",
    "    return A, valprp"
   ]
  },
  {
   "cell_type": "code",
   "execution_count": null,
   "id": "d34f8fd9",
   "metadata": {},
   "outputs": [],
   "source": []
  },
  {
   "cell_type": "code",
   "execution_count": null,
   "id": "96ff3e8c",
   "metadata": {},
   "outputs": [],
   "source": []
  },
  {
   "cell_type": "code",
   "execution_count": null,
   "id": "a734c7ab",
   "metadata": {},
   "outputs": [],
   "source": []
  },
  {
   "cell_type": "code",
   "execution_count": null,
   "id": "f6bf0c22",
   "metadata": {},
   "outputs": [],
   "source": []
  }
 ],
 "metadata": {
  "kernelspec": {
   "display_name": ".venv",
   "language": "python",
   "name": "python3"
  },
  "language_info": {
   "codemirror_mode": {
    "name": "ipython",
    "version": 3
   },
   "file_extension": ".py",
   "mimetype": "text/x-python",
   "name": "python",
   "nbconvert_exporter": "python",
   "pygments_lexer": "ipython3",
   "version": "3.13.1"
  }
 },
 "nbformat": 4,
 "nbformat_minor": 5
}
