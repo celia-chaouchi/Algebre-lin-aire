{
 "cells": [
  {
   "cell_type": "code",
   "execution_count": null,
   "id": "1919e4be",
   "metadata": {},
   "outputs": [],
   "source": [
    "#Addition de 2 matrices \n",
    "def add_mat (A,B):\n",
    "    if len(A) != len(B) : \n",
    "        raise ValueError (\"les matrices n'ont pas le meme nombre de ligne\")\n",
    "    for i in range (len(A)) :\n",
    "        if len(A[i]) != len(B[i]) :\n",
    "            raise ValueError (\"les lignes\",i,\"n'ont pas le même nombre de colonnes\")\n",
    "    C=[]\n",
    "    for i in range (len(A)):\n",
    "        ligne = []\n",
    "        for j in range (len(A[i])):\n",
    "            ligne.append(A[i][j]+B[i][j])\n",
    "        C.append(ligne)\n",
    "    return C "
   ]
  },
  {
   "cell_type": "code",
   "execution_count": 3,
   "id": "6fbecb9d",
   "metadata": {},
   "outputs": [
    {
     "name": "stdout",
     "output_type": "stream",
     "text": [
      "/Users/celia/Desktop/GitHub/Algebre-lin-aire/.venv/bin/python\n"
     ]
    }
   ],
   "source": [
    "import sys\n",
    "print(sys.executable)\n"
   ]
  },
  {
   "cell_type": "code",
   "execution_count": 4,
   "id": "5192d7f5",
   "metadata": {},
   "outputs": [],
   "source": [
    "#addition 2 matrices avec numoy\n",
    "import numpy as np\n",
    "def add_mat_n (A,B):\n",
    "    A = np.array(A)\n",
    "    B = np.array(B)\n",
    "    if A.shape != B.shape :\n",
    "        raise ValueError(\"A et B ne sont pas de la meme dimension\")\n",
    "    return A+B\n"
   ]
  },
  {
   "cell_type": "code",
   "execution_count": 5,
   "id": "ff1c02fc",
   "metadata": {},
   "outputs": [],
   "source": [
    "# multiplier une matrice par un scalaire\n",
    "def mat_scal (k,A):\n",
    "    resultat = []\n",
    "    for ligne in A:\n",
    "        resultat_ligne = [element * k for element in ligne]\n",
    "        resultat.append(resultat_ligne)\n",
    "    return resultat\n"
   ]
  },
  {
   "cell_type": "code",
   "execution_count": null,
   "id": "094d4a0b",
   "metadata": {},
   "outputs": [],
   "source": [
    "# multiplier une matrice par un scalaire avec numpy\n",
    "import numpy as np\n",
    "def mat_scal_n(k,A):\n",
    "    A = np.array(A)\n",
    "    return k * A"
   ]
  },
  {
   "cell_type": "code",
   "execution_count": null,
   "id": "6c10dec9",
   "metadata": {},
   "outputs": [],
   "source": [
    "#multiplier 2 matrices\n",
    "\n",
    "def mult_mat (A,B) : \n",
    "    for i in range (len(A)):\n",
    "        if len(A[i]) != len(B) : raise ValueError(\"les dimensions des matrices ne correspondent pas\")\n",
    "    C = [[0 for _ in range (len(B[0]))] for _ in range (len(A))]\n",
    "    for l in range (len(A)):\n",
    "        for j in range (len(B[0])):\n",
    "            for k in range (len(B)):\n",
    "                C[i][j] += A[l][k]*B[k][j]\n",
    "\n",
    "    return C\n",
    "\n"
   ]
  },
  {
   "cell_type": "code",
   "execution_count": 8,
   "id": "01546df1",
   "metadata": {},
   "outputs": [],
   "source": [
    "#multiplier 2 matrices avec numpy \n",
    "def mult_mat (A,B) :\n",
    "    A = np.array(A)\n",
    "    B = np.array(B)\n",
    "    return np.dot(A,B)"
   ]
  },
  {
   "cell_type": "code",
   "execution_count": 7,
   "id": "931afe5e",
   "metadata": {},
   "outputs": [],
   "source": [
    "# tester si une matrice est symétrique\n",
    "\n",
    "def sym (A) : \n",
    "    decision = 0\n",
    "    for i in range (len(A)):\n",
    "        if len(A[i]) != len(A) : raise ValueError (\"la matric n'est pas carrée elle ne peucx pas etre symmetrique\")\n",
    "        for j in range (len(A[0])):\n",
    "            if A[i[j]]!=A[j][i] : decision+=1\n",
    "    if decision == 0 : return \"la matrice est symmétrique \"\n",
    "    else : return \"la matrice n'est pas symétrique\"\n"
   ]
  },
  {
   "cell_type": "code",
   "execution_count": 6,
   "id": "2c953b64",
   "metadata": {},
   "outputs": [],
   "source": [
    "import numpy as np\n",
    "def sym(A):\n",
    "    A =np.array(A)\n",
    "    rows, cols = A.shape\n",
    "    if rows != cols:\n",
    "        return False\n",
    "    #return np.allclose(A, A.T) tolerance pour flottant \n",
    "    return np.array_equal(A,A.T)"
   ]
  }
 ],
 "metadata": {
  "kernelspec": {
   "display_name": ".venv",
   "language": "python",
   "name": "python3"
  },
  "language_info": {
   "codemirror_mode": {
    "name": "ipython",
    "version": 3
   },
   "file_extension": ".py",
   "mimetype": "text/x-python",
   "name": "python",
   "nbconvert_exporter": "python",
   "pygments_lexer": "ipython3",
   "version": "3.13.1"
  }
 },
 "nbformat": 4,
 "nbformat_minor": 5
}
